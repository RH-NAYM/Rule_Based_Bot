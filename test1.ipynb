{
 "cells": [
  {
   "cell_type": "markdown",
   "metadata": {},
   "source": [
    "# RuleBot"
   ]
  },
  {
   "cell_type": "code",
   "execution_count": 1,
   "metadata": {},
   "outputs": [
    {
     "name": "stdout",
     "output_type": "stream",
     "text": [
      "Ok, Have a nice day!\n"
     ]
    }
   ],
   "source": [
    "import re\n",
    "import random\n",
    "\n",
    "class RuleBot:\n",
    "    negative_responses = ('no','nope','nah','now','not a chance','sorry')\n",
    "    exit_commands = ('quit','pause','exit','goodbye','bye','later')\n",
    "    random_questions = [\n",
    "        'What is your name?',\n",
    "        'Where do you live?',\n",
    "        'Tell me about your problems',\n",
    "        'Where would you like to have treatment?',\n",
    "    ]\n",
    "\n",
    "    def __init__(self):\n",
    "        self.alienbabble = {\n",
    "            'name_intent':r'.*\\s*name.*',\n",
    "            'location_intent':r'.*\\s*live.*',\n",
    "            'problem_intent':r'.*\\s*problem.*',\n",
    "            'treatment_location_intent':r'.*\\s*country.*'\n",
    "        }\n",
    "    def greet(self):\n",
    "        self.name = input('Hello I am Settler. What is your name?\\n')\n",
    "        will_help = input(f'Hi {self.name}, Where do you live?\\n') \n",
    "        # will_help = input(f'Hi {self.name}, Where do you live?\\n') # Tell me {self.name}, about your problems.\\nSo {self.name}, where would you like to have the treatment?\n",
    "        if will_help in self.negative_responses:\n",
    "            print('Ok, Have a nice day!')\n",
    "            return\n",
    "        self.chat()\n",
    "\n",
    "    def make_exit(self,reply):\n",
    "        for command in self.exit_commands:\n",
    "            if reply == command:\n",
    "                print('Ok, have a nice day!')\n",
    "                return True\n",
    "    \n",
    "    def chat(self):\n",
    "        reply = input(i for i in self.random_questions).lower()\n",
    "        while not self.make_exit(reply):\n",
    "            reply = input(self.match_reply(reply))\n",
    "\n",
    "    def match_reply(self,reply):\n",
    "        for key,value in self.alienbabble.items():\n",
    "            intent = key\n",
    "            regex_pattern = value\n",
    "            found_match = re.match(regex_pattern,reply)\n",
    "            if found_match and intent == 'name_intent':\n",
    "                reply = self.name_intent()\n",
    "            elif found_match and intent == 'location_intent':\n",
    "                reply = self.location_intent()\n",
    "            elif found_match and intent == 'problem_intent':\n",
    "                reply = self.problem_intent()\n",
    "            elif found_match and intent == 'treatment_location_intent':\n",
    "                reply = self.treatment_location_intent()\n",
    "        if not found_match:\n",
    "            return self.no_match_intent()\n",
    "\n",
    "    def name_intent(self):\n",
    "        responses = ('My name is Settler. Tell me your name?\\n',\n",
    "                     'I am Settler. Introduce yourself?\\n')\n",
    "        return random.choice(responses)\n",
    "    \n",
    "    def location_intent(self):\n",
    "        responses = ('Where do you live now?\\n',\n",
    "                     'What is your location?\\n')\n",
    "        return random.choice(responses)\n",
    "\n",
    "    def problem_intent(self):\n",
    "        responses = ('Tell me about your problems.\\n',\n",
    "                     'What kind of physical problem are you facing now?\\n')\n",
    "        return random.choice(responses)\n",
    "    \n",
    "    def treatment_location_intent(self):\n",
    "        responses = ('Where would you like to have treatment?\\n',\n",
    "                     'Tell me about the country where you want to have treatment.\\n')\n",
    "        return random.choice(responses)\n",
    "\n",
    "    def no_match_intent(self):\n",
    "        responses = ('Tell me more.\\n',\n",
    "                     'Please describe more.\\n')\n",
    "        return random.choice(responses)\n",
    "    \n",
    "AlienBot = RuleBot()\n",
    "AlienBot.greet()\n",
    "\n"
   ]
  },
  {
   "cell_type": "markdown",
   "metadata": {},
   "source": [
    "# AI Bot"
   ]
  },
  {
   "cell_type": "code",
   "execution_count": 2,
   "metadata": {},
   "outputs": [],
   "source": [
    "import numpy as np\n",
    "import nltk\n",
    "import string\n",
    "import random\n",
    "from nltk.tokenize import RegexpTokenizer\n",
    " \n"
   ]
  },
  {
   "cell_type": "code",
   "execution_count": 3,
   "metadata": {},
   "outputs": [],
   "source": [
    "f = open(\"data.txt\", \"r\")\n",
    "raw_doc = f.read()"
   ]
  },
  {
   "cell_type": "code",
   "execution_count": 4,
   "metadata": {},
   "outputs": [
    {
     "name": "stdout",
     "output_type": "stream",
     "text": [
      "Artificial intelligence is the simulation of human intelligence processes by machines, especially computer systems.Specific applications of AI include expert systems, natural language processing, speech recognition and machine vision.\n",
      "\n",
      "AI works as the hype around AI has accelerated, vendors have been scrambling to promote how their products and services use it. Often, what they refer to as AI is simply a component of the technology, such as machine learning. AI requires a foundation of specialized hardware and software for writing and training machine learning algorithms. No single programming language is synonymous with AI, but Python, R, Java, C++ and Julia have features popular with AI developers.In general, AI systems work by ingesting large amounts of labeled training data, analyzing the data for correlations and patterns, and using these patterns to make predictions about future states. In this way, a chatbot that is fed examples of text can learn to generate lifelike exchanges with people, or an image recognition tool can learn to identify and describe objects in images by reviewing millions of examples. New, rapidly improving generative AI techniques can create realistic text, images, music and other media.\n",
      "\n",
      "AI Skills are Learning and this aspect of AI programming focuses on acquiring data and creating rules for how to turn it into actionable information. The rules, which are called algorithms, provide computing devices with step-by-step instructions for how to complete a specific task.\n",
      "Reasoning. This aspect of AI programming focuses on choosing the right algorithm to reach a desired outcome.\n",
      "Self-correction. This aspect of AI programming is designed to continually fine-tune algorithms and ensure they provide the most accurate results possible.\n",
      "Creativity. This aspect of AI uses neural networks, rules-based systems, statistical methods and other AI techniques to generate new images, new text, new music and new ideas.\n"
     ]
    }
   ],
   "source": [
    "print(raw_doc)"
   ]
  },
  {
   "cell_type": "markdown",
   "metadata": {},
   "source": [
    "# Data Preprocess"
   ]
  },
  {
   "cell_type": "code",
   "execution_count": 5,
   "metadata": {},
   "outputs": [
    {
     "name": "stderr",
     "output_type": "stream",
     "text": [
      "[nltk_data] Downloading package punkt to\n",
      "[nltk_data]     C:\\Users\\naymm\\AppData\\Roaming\\nltk_data...\n",
      "[nltk_data]   Package punkt is already up-to-date!\n",
      "[nltk_data] Downloading package wordnet to\n",
      "[nltk_data]     C:\\Users\\naymm\\AppData\\Roaming\\nltk_data...\n",
      "[nltk_data]   Package wordnet is already up-to-date!\n",
      "[nltk_data] Downloading package omw-1.4 to\n",
      "[nltk_data]     C:\\Users\\naymm\\AppData\\Roaming\\nltk_data...\n",
      "[nltk_data]   Package omw-1.4 is already up-to-date!\n"
     ]
    },
    {
     "data": {
      "text/plain": [
       "True"
      ]
     },
     "execution_count": 5,
     "metadata": {},
     "output_type": "execute_result"
    }
   ],
   "source": [
    "\n",
    "raw_doc = raw_doc.lower()\n",
    "\n",
    "nltk.download('punkt')\n",
    "nltk.download('wordnet')\n",
    "nltk.download('omw-1.4')\n",
    "\n"
   ]
  },
  {
   "cell_type": "code",
   "execution_count": 6,
   "metadata": {},
   "outputs": [
    {
     "name": "stdout",
     "output_type": "stream",
     "text": [
      "artificial intelligence is the simulation of human intelligence processes by machines, especially computer systems.specific applications of ai include expert systems, natural language processing, speech recognition and machine vision.\n",
      "\n",
      "ai works as the hype around ai has accelerated, vendors have been scrambling to promote how their products and services use it. often, what they refer to as ai is simply a component of the technology, such as machine learning. ai requires a foundation of specialized hardware and software for writing and training machine learning algorithms. no single programming language is synonymous with ai, but python, r, java, c++ and julia have features popular with ai developers.in general, ai systems work by ingesting large amounts of labeled training data, analyzing the data for correlations and patterns, and using these patterns to make predictions about future states. in this way, a chatbot that is fed examples of text can learn to generate lifelike exchanges with people, or an image recognition tool can learn to identify and describe objects in images by reviewing millions of examples. new, rapidly improving generative ai techniques can create realistic text, images, music and other media.\n",
      "\n",
      "ai skills are learning and this aspect of ai programming focuses on acquiring data and creating rules for how to turn it into actionable information. the rules, which are called algorithms, provide computing devices with step-by-step instructions for how to complete a specific task.\n",
      "reasoning. this aspect of ai programming focuses on choosing the right algorithm to reach a desired outcome.\n",
      "self-correction. this aspect of ai programming is designed to continually fine-tune algorithms and ensure they provide the most accurate results possible.\n",
      "creativity. this aspect of ai uses neural networks, rules-based systems, statistical methods and other ai techniques to generate new images, new text, new music and new ideas.\n"
     ]
    }
   ],
   "source": [
    "print(raw_doc)"
   ]
  },
  {
   "cell_type": "markdown",
   "metadata": {},
   "source": [
    "# Tokenization"
   ]
  },
  {
   "cell_type": "code",
   "execution_count": 7,
   "metadata": {},
   "outputs": [],
   "source": [
    "sentence_tokens = nltk.sent_tokenize(raw_doc)\n",
    "word_tokens = nltk.word_tokenize(raw_doc)"
   ]
  },
  {
   "cell_type": "code",
   "execution_count": 8,
   "metadata": {},
   "outputs": [
    {
     "data": {
      "text/plain": [
       "['artificial intelligence is the simulation of human intelligence processes by machines, especially computer systems.specific applications of ai include expert systems, natural language processing, speech recognition and machine vision.',\n",
       " 'ai works as the hype around ai has accelerated, vendors have been scrambling to promote how their products and services use it.',\n",
       " 'often, what they refer to as ai is simply a component of the technology, such as machine learning.',\n",
       " 'ai requires a foundation of specialized hardware and software for writing and training machine learning algorithms.',\n",
       " 'no single programming language is synonymous with ai, but python, r, java, c++ and julia have features popular with ai developers.in general, ai systems work by ingesting large amounts of labeled training data, analyzing the data for correlations and patterns, and using these patterns to make predictions about future states.']"
      ]
     },
     "execution_count": 8,
     "metadata": {},
     "output_type": "execute_result"
    }
   ],
   "source": [
    "sentence_tokens[:5]"
   ]
  },
  {
   "cell_type": "code",
   "execution_count": 9,
   "metadata": {},
   "outputs": [
    {
     "data": {
      "text/plain": [
       "'artificial'"
      ]
     },
     "execution_count": 9,
     "metadata": {},
     "output_type": "execute_result"
    }
   ],
   "source": [
    "word_tokens[0]"
   ]
  },
  {
   "cell_type": "markdown",
   "metadata": {},
   "source": [
    "# Lamitization"
   ]
  },
  {
   "cell_type": "code",
   "execution_count": 10,
   "metadata": {},
   "outputs": [],
   "source": [
    "lemmer = nltk.stem.WordNetLemmatizer()\n",
    "def LemTokens(tokens):\n",
    "    return [lemmer.lemmatize(token) for token in tokens]\n",
    "remove_punc_dict = dict((ord(punct),None) for punct in string.punctuation)\n",
    "def LemNormalize(text):\n",
    "    return LemTokens(nltk.word_tokenize(text.lower().translate(remove_punc_dict)))\n",
    "\n"
   ]
  },
  {
   "cell_type": "markdown",
   "metadata": {},
   "source": [
    "# Greetings"
   ]
  },
  {
   "cell_type": "code",
   "execution_count": 11,
   "metadata": {},
   "outputs": [],
   "source": [
    "greet_inputs = [\"hello\",\"hi\",\"how are you\"]\n",
    "greet_response = [\"hello\",\"hi\",\"how are you\"]\n",
    "\n",
    "def greet(sentence):\n",
    "    for word in sentence.split():\n",
    "        if word.lower() in greet_inputs:\n",
    "            return random.choice(greet_response)"
   ]
  },
  {
   "cell_type": "markdown",
   "metadata": {},
   "source": [
    "# Response Generation"
   ]
  },
  {
   "cell_type": "code",
   "execution_count": 12,
   "metadata": {},
   "outputs": [],
   "source": [
    "from sklearn.feature_extraction.text import TfidfVectorizer\n",
    "from sklearn.metrics.pairwise import cosine_similarity\n",
    "\n"
   ]
  },
  {
   "cell_type": "code",
   "execution_count": 13,
   "metadata": {},
   "outputs": [],
   "source": [
    "def response(user_response):\n",
    "    robo1_response = ''\n",
    "    TfidfVec = TfidfVectorizer(tokenizer=LemNormalize, stop_words='english')\n",
    "    tfidf = TfidfVec.fit_transform(sentence_tokens)\n",
    "    vals = cosine_similarity(tfidf[-1],tfidf)\n",
    "    idx = vals.argsort()[0][-2]\n",
    "    flat = vals.flatten()\n",
    "    flat.sort()\n",
    "\n",
    "    req_tfidf = flat[-2]\n",
    "    if (req_tfidf == 0):\n",
    "        robo1_response = robo1_response + \"sorry, unable to understand\"\n",
    "        return robo1_response\n",
    "    else:\n",
    "        robo1_response = robo1_response + sentence_tokens[idx]\n",
    "        return robo1_response\n",
    "\n"
   ]
  },
  {
   "cell_type": "markdown",
   "metadata": {},
   "source": [
    "# Run Bot"
   ]
  },
  {
   "cell_type": "code",
   "execution_count": 14,
   "metadata": {},
   "outputs": [
    {
     "name": "stdout",
     "output_type": "stream",
     "text": [
      "Hello, Lets start conversation.\n",
      "Bot: hello\n",
      "Bot: "
     ]
    },
    {
     "name": "stderr",
     "output_type": "stream",
     "text": [
      "c:\\Users\\naymm\\miniconda3\\envs\\ruleBot\\lib\\site-packages\\sklearn\\feature_extraction\\text.py:525: UserWarning: The parameter 'token_pattern' will not be used since 'tokenizer' is not None'\n",
      "  warnings.warn(\n",
      "c:\\Users\\naymm\\miniconda3\\envs\\ruleBot\\lib\\site-packages\\sklearn\\feature_extraction\\text.py:408: UserWarning: Your stop_words may be inconsistent with your preprocessing. Tokenizing the stop words generated tokens ['ha', 'le', 'u', 'wa'] not in stop_words.\n",
      "  warnings.warn(\n"
     ]
    },
    {
     "name": "stdout",
     "output_type": "stream",
     "text": [
      "sorry, unable to understand\n",
      "Bot: artificial intelligence is the simulation of human intelligence processes by machines, especially computer systems.specific applications of ai include expert systems, natural language processing, speech recognition and machine vision.\n",
      "Bot: ai skills are learning and this aspect of ai programming focuses on acquiring data and creating rules for how to turn it into actionable information.\n",
      "Bot: ai skills are learning and this aspect of ai programming focuses on acquiring data and creating rules for how to turn it into actionable information.\n",
      "Bot: You are welcome!!!\n"
     ]
    }
   ],
   "source": [
    "flag = True\n",
    "print(\"Hello, Lets start conversation.\")\n",
    "\n",
    "while (flag==True):\n",
    "    user_response = input()\n",
    "    user_response = user_response.lower()\n",
    "    if (user_response!=\"bye\"):\n",
    "        if (user_response==\"thank you\" or user_response==\"thanks\"):\n",
    "            flag=False\n",
    "            print(\"Bot: You are welcome!!!\")\n",
    "        else:\n",
    "            if (greet(user_response)!=None):\n",
    "                print('Bot: '+ greet(user_response))\n",
    "            else:\n",
    "                sentence_tokens.append(user_response)\n",
    "                word_tokens = word_tokens + nltk.word_tokenize(user_response)\n",
    "                final_words = list(set(word_tokens))\n",
    "                print('Bot: ', end='')\n",
    "                print(response(user_response))\n",
    "                sentence_tokens.remove(user_response)\n",
    "    else:\n",
    "        flag = False\n",
    "        print(\"Bot: Goodbye\")\n",
    "                "
   ]
  },
  {
   "cell_type": "code",
   "execution_count": null,
   "metadata": {},
   "outputs": [],
   "source": []
  }
 ],
 "metadata": {
  "kernelspec": {
   "display_name": "ruleBot",
   "language": "python",
   "name": "python3"
  },
  "language_info": {
   "codemirror_mode": {
    "name": "ipython",
    "version": 3
   },
   "file_extension": ".py",
   "mimetype": "text/x-python",
   "name": "python",
   "nbconvert_exporter": "python",
   "pygments_lexer": "ipython3",
   "version": "3.10.13"
  }
 },
 "nbformat": 4,
 "nbformat_minor": 2
}
